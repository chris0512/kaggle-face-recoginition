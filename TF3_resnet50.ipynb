{
  "nbformat": 4,
  "nbformat_minor": 0,
  "metadata": {
    "accelerator": "GPU",
    "colab": {
      "name": "TF3_resnet50.ipynb",
      "provenance": [],
      "collapsed_sections": []
    },
    "kernelspec": {
      "display_name": "Python 3",
      "language": "python",
      "name": "python3"
    },
    "language_info": {
      "codemirror_mode": {
        "name": "ipython",
        "version": 3
      },
      "file_extension": ".py",
      "mimetype": "text/x-python",
      "name": "python",
      "nbconvert_exporter": "python",
      "pygments_lexer": "ipython3",
      "version": "3.7.6"
    }
  },
  "cells": [
    {
      "cell_type": "markdown",
      "metadata": {
        "id": "qjQnu80ijCa-"
      },
      "source": [
        "# CNN + Transfer learning 練習"
      ]
    },
    {
      "cell_type": "code",
      "metadata": {
        "colab": {
          "base_uri": "https://localhost:8080/"
        },
        "id": "0WR-13xmdxs7",
        "outputId": "eade9a74-ad17-41eb-f4bd-afbf58b9dc1b"
      },
      "source": [
        "from google.colab import drive\n",
        "drive.mount('/content/drive')"
      ],
      "execution_count": null,
      "outputs": [
        {
          "output_type": "stream",
          "name": "stdout",
          "text": [
            "Mounted at /content/drive\n"
          ]
        }
      ]
    },
    {
      "cell_type": "code",
      "metadata": {
        "id": "4aYT5FlRduaP"
      },
      "source": [
        "import numpy as np\n",
        "import pandas as pd\n",
        "import os\n",
        "import matplotlib.pyplot as plt\n",
        "%matplotlib inline\n",
        "os.environ[\"CUDA_VISIBLE_DEVICES\"] = \"0\""
      ],
      "execution_count": null,
      "outputs": []
    },
    {
      "cell_type": "code",
      "metadata": {
        "id": "vjFmupouR8XP"
      },
      "source": [
        "from tensorflow import keras\n",
        "from tensorflow.keras.preprocessing.image import ImageDataGenerator\n",
        "from tensorflow.keras.models import Model\n",
        "from tensorflow.keras.layers import (Dense, Dropout, Activation,\n",
        "                                     Flatten, GlobalAveragePooling2D)\n",
        "import tensorflow as tf"
      ],
      "execution_count": null,
      "outputs": []
    },
    {
      "cell_type": "markdown",
      "metadata": {
        "id": "kxBu1rarjRU0"
      },
      "source": [
        "## Where AM I 資料讀入及前處理"
      ]
    },
    {
      "cell_type": "code",
      "metadata": {
        "colab": {
          "base_uri": "https://localhost:8080/",
          "height": 206
        },
        "id": "2aOHcqZ2duaS",
        "outputId": "77307bd9-2adf-4d79-eb09-9cf3dafc324b"
      },
      "source": [
        "df_label = pd.read_csv('/content/drive/MyDrive/AIA/Kaggle/WhoIsShe/classmap.csv')\n",
        "df_label"
      ],
      "execution_count": null,
      "outputs": [
        {
          "output_type": "execute_result",
          "data": {
            "text/html": [
              "<div>\n",
              "<style scoped>\n",
              "    .dataframe tbody tr th:only-of-type {\n",
              "        vertical-align: middle;\n",
              "    }\n",
              "\n",
              "    .dataframe tbody tr th {\n",
              "        vertical-align: top;\n",
              "    }\n",
              "\n",
              "    .dataframe thead th {\n",
              "        text-align: right;\n",
              "    }\n",
              "</style>\n",
              "<table border=\"1\" class=\"dataframe\">\n",
              "  <thead>\n",
              "    <tr style=\"text-align: right;\">\n",
              "      <th></th>\n",
              "      <th>classname</th>\n",
              "      <th>classnum</th>\n",
              "    </tr>\n",
              "  </thead>\n",
              "  <tbody>\n",
              "    <tr>\n",
              "      <th>0</th>\n",
              "      <td>rika</td>\n",
              "      <td>0</td>\n",
              "    </tr>\n",
              "    <tr>\n",
              "      <th>1</th>\n",
              "      <td>risa</td>\n",
              "      <td>1</td>\n",
              "    </tr>\n",
              "    <tr>\n",
              "      <th>2</th>\n",
              "      <td>yui</td>\n",
              "      <td>2</td>\n",
              "    </tr>\n",
              "    <tr>\n",
              "      <th>3</th>\n",
              "      <td>akane</td>\n",
              "      <td>3</td>\n",
              "    </tr>\n",
              "    <tr>\n",
              "      <th>4</th>\n",
              "      <td>neru</td>\n",
              "      <td>4</td>\n",
              "    </tr>\n",
              "  </tbody>\n",
              "</table>\n",
              "</div>"
            ],
            "text/plain": [
              "  classname  classnum\n",
              "0      rika         0\n",
              "1      risa         1\n",
              "2       yui         2\n",
              "3     akane         3\n",
              "4      neru         4"
            ]
          },
          "metadata": {},
          "execution_count": 4
        }
      ]
    },
    {
      "cell_type": "code",
      "metadata": {
        "colab": {
          "base_uri": "https://localhost:8080/",
          "height": 35
        },
        "id": "5YFsvI9XduaT",
        "outputId": "e23e1cd7-42af-4953-f27a-7148bfeea69e"
      },
      "source": [
        "num = df_label.loc[df_label['classname'] == 'akane'].classnum.values[0]\n",
        "num = num.astype(str)\n",
        "num"
      ],
      "execution_count": null,
      "outputs": [
        {
          "output_type": "execute_result",
          "data": {
            "application/vnd.google.colaboratory.intrinsic+json": {
              "type": "string"
            },
            "text/plain": [
              "'3'"
            ]
          },
          "metadata": {},
          "execution_count": 5
        }
      ]
    },
    {
      "cell_type": "code",
      "metadata": {
        "colab": {
          "base_uri": "https://localhost:8080/",
          "height": 206
        },
        "id": "moIJ3OyDe-Pr",
        "outputId": "2617f400-62ef-4d6c-ea0b-a46ef76cdae9"
      },
      "source": [
        "df_label"
      ],
      "execution_count": null,
      "outputs": [
        {
          "output_type": "execute_result",
          "data": {
            "text/html": [
              "<div>\n",
              "<style scoped>\n",
              "    .dataframe tbody tr th:only-of-type {\n",
              "        vertical-align: middle;\n",
              "    }\n",
              "\n",
              "    .dataframe tbody tr th {\n",
              "        vertical-align: top;\n",
              "    }\n",
              "\n",
              "    .dataframe thead th {\n",
              "        text-align: right;\n",
              "    }\n",
              "</style>\n",
              "<table border=\"1\" class=\"dataframe\">\n",
              "  <thead>\n",
              "    <tr style=\"text-align: right;\">\n",
              "      <th></th>\n",
              "      <th>classname</th>\n",
              "      <th>classnum</th>\n",
              "    </tr>\n",
              "  </thead>\n",
              "  <tbody>\n",
              "    <tr>\n",
              "      <th>0</th>\n",
              "      <td>rika</td>\n",
              "      <td>0</td>\n",
              "    </tr>\n",
              "    <tr>\n",
              "      <th>1</th>\n",
              "      <td>risa</td>\n",
              "      <td>1</td>\n",
              "    </tr>\n",
              "    <tr>\n",
              "      <th>2</th>\n",
              "      <td>yui</td>\n",
              "      <td>2</td>\n",
              "    </tr>\n",
              "    <tr>\n",
              "      <th>3</th>\n",
              "      <td>akane</td>\n",
              "      <td>3</td>\n",
              "    </tr>\n",
              "    <tr>\n",
              "      <th>4</th>\n",
              "      <td>neru</td>\n",
              "      <td>4</td>\n",
              "    </tr>\n",
              "  </tbody>\n",
              "</table>\n",
              "</div>"
            ],
            "text/plain": [
              "  classname  classnum\n",
              "0      rika         0\n",
              "1      risa         1\n",
              "2       yui         2\n",
              "3     akane         3\n",
              "4      neru         4"
            ]
          },
          "metadata": {},
          "execution_count": 6
        }
      ]
    },
    {
      "cell_type": "code",
      "metadata": {
        "id": "pN-Q4kqmduaU"
      },
      "source": [
        "data_path = \"/content/drive/MyDrive/AIA/Kaggle/WhoIsShe/training_set\"\n",
        "\n",
        "x_data_list = []\n",
        "y_data_list = []\n",
        "for roots, dirs, files in os.walk(data_path):\n",
        "    for each in files:\n",
        "        if each.find('checkpoint') == -1:\n",
        "            x_data_list.append(os.path.join(roots, each))\n",
        "            class_name = roots.split(\"/\")[-1]\n",
        "            label = df_label.loc[df_label['classname'] == class_name].classnum.values[0]\n",
        "            label = label.astype(str)\n",
        "            y_data_list.append(label)"
      ],
      "execution_count": null,
      "outputs": []
    },
    {
      "cell_type": "code",
      "metadata": {
        "id": "fHT04R_wduaU",
        "colab": {
          "base_uri": "https://localhost:8080/"
        },
        "outputId": "dcf1cebd-6d22-4b47-82ca-0c8a6666fd41"
      },
      "source": [
        "len(y_data_list)"
      ],
      "execution_count": null,
      "outputs": [
        {
          "output_type": "execute_result",
          "data": {
            "text/plain": [
              "537"
            ]
          },
          "metadata": {},
          "execution_count": 8
        }
      ]
    },
    {
      "cell_type": "code",
      "metadata": {
        "id": "0eXukG5QduaV"
      },
      "source": [
        "data_list = pd.DataFrame({})\n",
        "data_list['img_path'] = x_data_list\n",
        "data_list['label'] = y_data_list"
      ],
      "execution_count": null,
      "outputs": []
    },
    {
      "cell_type": "code",
      "metadata": {
        "colab": {
          "base_uri": "https://localhost:8080/",
          "height": 143
        },
        "id": "gY1rzpZhduaV",
        "outputId": "01279343-a26d-4825-f3b0-d80cc6b6d79b"
      },
      "source": [
        "data_list.head(3)"
      ],
      "execution_count": null,
      "outputs": [
        {
          "output_type": "execute_result",
          "data": {
            "text/html": [
              "<div>\n",
              "<style scoped>\n",
              "    .dataframe tbody tr th:only-of-type {\n",
              "        vertical-align: middle;\n",
              "    }\n",
              "\n",
              "    .dataframe tbody tr th {\n",
              "        vertical-align: top;\n",
              "    }\n",
              "\n",
              "    .dataframe thead th {\n",
              "        text-align: right;\n",
              "    }\n",
              "</style>\n",
              "<table border=\"1\" class=\"dataframe\">\n",
              "  <thead>\n",
              "    <tr style=\"text-align: right;\">\n",
              "      <th></th>\n",
              "      <th>img_path</th>\n",
              "      <th>label</th>\n",
              "    </tr>\n",
              "  </thead>\n",
              "  <tbody>\n",
              "    <tr>\n",
              "      <th>0</th>\n",
              "      <td>/content/drive/MyDrive/AIA/Kaggle/WhoIsShe/tra...</td>\n",
              "      <td>1</td>\n",
              "    </tr>\n",
              "    <tr>\n",
              "      <th>1</th>\n",
              "      <td>/content/drive/MyDrive/AIA/Kaggle/WhoIsShe/tra...</td>\n",
              "      <td>1</td>\n",
              "    </tr>\n",
              "    <tr>\n",
              "      <th>2</th>\n",
              "      <td>/content/drive/MyDrive/AIA/Kaggle/WhoIsShe/tra...</td>\n",
              "      <td>1</td>\n",
              "    </tr>\n",
              "  </tbody>\n",
              "</table>\n",
              "</div>"
            ],
            "text/plain": [
              "                                            img_path label\n",
              "0  /content/drive/MyDrive/AIA/Kaggle/WhoIsShe/tra...     1\n",
              "1  /content/drive/MyDrive/AIA/Kaggle/WhoIsShe/tra...     1\n",
              "2  /content/drive/MyDrive/AIA/Kaggle/WhoIsShe/tra...     1"
            ]
          },
          "metadata": {},
          "execution_count": 10
        }
      ]
    },
    {
      "cell_type": "code",
      "metadata": {
        "id": "a9rnSGo6duaW"
      },
      "source": [
        ""
      ],
      "execution_count": null,
      "outputs": []
    },
    {
      "cell_type": "code",
      "metadata": {
        "id": "p2cNwmSQduaW"
      },
      "source": [
        ""
      ],
      "execution_count": null,
      "outputs": []
    },
    {
      "cell_type": "code",
      "metadata": {
        "id": "4hG00vqaduaX"
      },
      "source": [
        "from sklearn.model_selection import train_test_split\n",
        "\n",
        "train_list, test_list = train_test_split(data_list,\n",
        "                                         test_size=0.1,\n",
        "                                         random_state=42,\n",
        "                                         stratify=data_list['label'].values)"
      ],
      "execution_count": null,
      "outputs": []
    },
    {
      "cell_type": "code",
      "metadata": {
        "id": "PfQmFEVEduaX"
      },
      "source": [
        "#train_list"
      ],
      "execution_count": null,
      "outputs": []
    },
    {
      "cell_type": "code",
      "metadata": {
        "id": "3hi9zGtMduaX",
        "colab": {
          "base_uri": "https://localhost:8080/"
        },
        "outputId": "3d0dc687-3f76-4ba3-b27e-40fe0b7db528"
      },
      "source": [
        "len(test_list)"
      ],
      "execution_count": null,
      "outputs": [
        {
          "output_type": "execute_result",
          "data": {
            "text/plain": [
              "54"
            ]
          },
          "metadata": {},
          "execution_count": 13
        }
      ]
    },
    {
      "cell_type": "code",
      "metadata": {
        "id": "AOd9FW1pduaY",
        "colab": {
          "base_uri": "https://localhost:8080/"
        },
        "outputId": "94040b48-e0a4-4745-b96f-7cce6ce29873"
      },
      "source": [
        "pred_data_path = \"/content/drive/MyDrive/AIA/Kaggle/WhoIsShe/testing_set\"\n",
        "\n",
        "x_pred_list = []\n",
        "\n",
        "for roots, dirs, files in os.walk(pred_data_path):\n",
        "    for each in files:\n",
        "        if each.find('checkpoint') == -1:\n",
        "            x_pred_list.append(os.path.join(roots, each))\n",
        "print(len(x_pred_list))"
      ],
      "execution_count": null,
      "outputs": [
        {
          "output_type": "stream",
          "name": "stdout",
          "text": [
            "438\n"
          ]
        }
      ]
    },
    {
      "cell_type": "code",
      "metadata": {
        "id": "d5wiPgnGduaY"
      },
      "source": [
        "pred_list = pd.DataFrame({})\n",
        "pred_list['img_path'] = x_pred_list\n"
      ],
      "execution_count": null,
      "outputs": []
    },
    {
      "cell_type": "code",
      "metadata": {
        "colab": {
          "base_uri": "https://localhost:8080/",
          "height": 143
        },
        "id": "slJwXYbpduaY",
        "outputId": "9518a136-6d5c-44ca-c281-40577a6e7605"
      },
      "source": [
        "pred_list.head(3)"
      ],
      "execution_count": null,
      "outputs": [
        {
          "output_type": "execute_result",
          "data": {
            "text/html": [
              "<div>\n",
              "<style scoped>\n",
              "    .dataframe tbody tr th:only-of-type {\n",
              "        vertical-align: middle;\n",
              "    }\n",
              "\n",
              "    .dataframe tbody tr th {\n",
              "        vertical-align: top;\n",
              "    }\n",
              "\n",
              "    .dataframe thead th {\n",
              "        text-align: right;\n",
              "    }\n",
              "</style>\n",
              "<table border=\"1\" class=\"dataframe\">\n",
              "  <thead>\n",
              "    <tr style=\"text-align: right;\">\n",
              "      <th></th>\n",
              "      <th>img_path</th>\n",
              "    </tr>\n",
              "  </thead>\n",
              "  <tbody>\n",
              "    <tr>\n",
              "      <th>0</th>\n",
              "      <td>/content/drive/MyDrive/AIA/Kaggle/WhoIsShe/tes...</td>\n",
              "    </tr>\n",
              "    <tr>\n",
              "      <th>1</th>\n",
              "      <td>/content/drive/MyDrive/AIA/Kaggle/WhoIsShe/tes...</td>\n",
              "    </tr>\n",
              "    <tr>\n",
              "      <th>2</th>\n",
              "      <td>/content/drive/MyDrive/AIA/Kaggle/WhoIsShe/tes...</td>\n",
              "    </tr>\n",
              "  </tbody>\n",
              "</table>\n",
              "</div>"
            ],
            "text/plain": [
              "                                            img_path\n",
              "0  /content/drive/MyDrive/AIA/Kaggle/WhoIsShe/tes...\n",
              "1  /content/drive/MyDrive/AIA/Kaggle/WhoIsShe/tes...\n",
              "2  /content/drive/MyDrive/AIA/Kaggle/WhoIsShe/tes..."
            ]
          },
          "metadata": {},
          "execution_count": 16
        }
      ]
    },
    {
      "cell_type": "code",
      "metadata": {
        "id": "e6e6csoQduaZ",
        "colab": {
          "base_uri": "https://localhost:8080/"
        },
        "outputId": "460e1b67-7891-4a1d-cf4e-a79599c1fe25"
      },
      "source": [
        "len(pred_list)"
      ],
      "execution_count": null,
      "outputs": [
        {
          "output_type": "execute_result",
          "data": {
            "text/plain": [
              "438"
            ]
          },
          "metadata": {},
          "execution_count": 17
        }
      ]
    },
    {
      "cell_type": "code",
      "metadata": {
        "id": "8Y-GfVfPduaZ"
      },
      "source": [
        "img_size = 224\n",
        "num_class = len(data_list['label'].unique())"
      ],
      "execution_count": null,
      "outputs": []
    },
    {
      "cell_type": "markdown",
      "metadata": {
        "id": "l_mL6wfrC52J"
      },
      "source": [
        "## 讀入 Pre-trained Model"
      ]
    },
    {
      "cell_type": "code",
      "metadata": {
        "id": "GfBNKjMOduaa"
      },
      "source": [
        "from tensorflow.keras.applications.resnet import (ResNet50, preprocess_input)"
      ],
      "execution_count": null,
      "outputs": []
    },
    {
      "cell_type": "code",
      "metadata": {
        "colab": {
          "base_uri": "https://localhost:8080/"
        },
        "id": "Y3aJkkKcC52L",
        "outputId": "9ba3ede0-7285-431d-9366-a739337e12db"
      },
      "source": [
        "pre_model = ResNet50(weights='imagenet', include_top=False,\n",
        "                     input_shape=(img_size, img_size, 3))\n",
        "\n",
        "x = GlobalAveragePooling2D()(pre_model.output)\n",
        "# x = Dense(128, activation='relu')(x)\n",
        "x = Dropout(0.1)(x)\n",
        "outputs = Dense(num_class, activation='softmax')(x)\n",
        "\n",
        "\n",
        "model = Model(inputs=pre_model.inputs, outputs=outputs)"
      ],
      "execution_count": null,
      "outputs": [
        {
          "output_type": "stream",
          "name": "stdout",
          "text": [
            "Downloading data from https://storage.googleapis.com/tensorflow/keras-applications/resnet/resnet50_weights_tf_dim_ordering_tf_kernels_notop.h5\n",
            "94773248/94765736 [==============================] - 1s 0us/step\n",
            "94781440/94765736 [==============================] - 1s 0us/step\n"
          ]
        }
      ]
    },
    {
      "cell_type": "code",
      "metadata": {
        "id": "IQ4VhE4Aduaa"
      },
      "source": [
        "# model.summary()"
      ],
      "execution_count": null,
      "outputs": []
    },
    {
      "cell_type": "markdown",
      "metadata": {
        "id": "zYqJHUtbduab"
      },
      "source": [
        "# 決定 Pre-Train 參數量"
      ]
    },
    {
      "cell_type": "code",
      "metadata": {
        "id": "kN-9Rc4eduab"
      },
      "source": [
        "pre_model.trainable = True\n",
        "\n",
        "# trainable_layer = 10\n",
        "# for layer in pre_model.layers[:-trainable_layer]:\n",
        "#     layer.trainable = False\n",
        "\n",
        "# for layer in model.layers:\n",
        "#     print(layer, layer.trainable)\n",
        "\n",
        "# model.summary()"
      ],
      "execution_count": null,
      "outputs": []
    },
    {
      "cell_type": "code",
      "metadata": {
        "colab": {
          "base_uri": "https://localhost:8080/"
        },
        "id": "dtPtV8bwSMO7",
        "outputId": "04de3154-8838-4df5-d7d8-3914b0b05b6f"
      },
      "source": [
        "learning_rate = 1e-5\n",
        "optimizer = keras.optimizers.Adam(lr=learning_rate)\n",
        "\n",
        "model.compile(loss='categorical_crossentropy',\n",
        "              optimizer=optimizer,\n",
        "              metrics=['accuracy'])"
      ],
      "execution_count": null,
      "outputs": [
        {
          "output_type": "stream",
          "name": "stderr",
          "text": [
            "/usr/local/lib/python3.7/dist-packages/keras/optimizer_v2/adam.py:105: UserWarning: The `lr` argument is deprecated, use `learning_rate` instead.\n",
            "  super(Adam, self).__init__(name, **kwargs)\n"
          ]
        }
      ]
    },
    {
      "cell_type": "markdown",
      "metadata": {
        "id": "Ldw-zoshjx38"
      },
      "source": [
        "# Data Augmentation"
      ]
    },
    {
      "cell_type": "code",
      "metadata": {
        "cellView": "both",
        "id": "lJVCV4ApSEmI"
      },
      "source": [
        "batch_size = 32\n",
        "num_steps = len(train_list) // batch_size + 1\n",
        "num_epochs = 50"
      ],
      "execution_count": null,
      "outputs": []
    },
    {
      "cell_type": "code",
      "metadata": {
        "id": "Tn0OrJJuduad"
      },
      "source": [
        "train_datagen = ImageDataGenerator(\n",
        "                                   width_shift_range=0.2,\n",
        "                                   height_shift_range=0.2,\n",
        "                                   horizontal_flip=True,\n",
        "                                   preprocessing_function=preprocess_input\n",
        "                                  )\n",
        "test_datagen = ImageDataGenerator(preprocessing_function=preprocess_input)"
      ],
      "execution_count": null,
      "outputs": []
    },
    {
      "cell_type": "code",
      "metadata": {
        "colab": {
          "base_uri": "https://localhost:8080/"
        },
        "id": "vArUAcSVduad",
        "outputId": "8822c233-1a50-4dae-db48-332a70930ecc"
      },
      "source": [
        "img_shape = (img_size, img_size)\n",
        "\n",
        "train_generator = train_datagen.flow_from_dataframe(\n",
        "                                                    dataframe=train_list,\n",
        "                                                    directory=data_path,\n",
        "                                                    x_col=\"img_path\",\n",
        "                                                    y_col=\"label\",\n",
        "                                                    target_size=img_shape,\n",
        "                                                    batch_size=batch_size,\n",
        "                                                    class_mode='categorical')\n",
        "\n",
        "valid_generator = test_datagen.flow_from_dataframe(\n",
        "                                                    dataframe=test_list,\n",
        "                                                    directory=data_path,\n",
        "                                                    x_col=\"img_path\",\n",
        "                                                    y_col=\"label\",\n",
        "                                                    target_size=img_shape,\n",
        "                                                    batch_size=batch_size,\n",
        "                                                    class_mode='categorical',\n",
        "                                                    shuffle=False)\n",
        "\n",
        "#用在不知道 label 的資料讀取上\n",
        "test_generator = test_datagen.flow_from_dataframe(\n",
        "                                                    dataframe=pred_list,\n",
        "                                                    directory=pred_data_path,\n",
        "                                                    x_col=\"img_path\",\n",
        "                                                    target_size=img_shape,\n",
        "                                                    batch_size=batch_size,\n",
        "                                                    class_mode=None,\n",
        "                                                    shuffle=False)\n"
      ],
      "execution_count": null,
      "outputs": [
        {
          "output_type": "stream",
          "name": "stdout",
          "text": [
            "Found 483 validated image filenames belonging to 5 classes.\n",
            "Found 54 validated image filenames belonging to 5 classes.\n",
            "Found 438 validated image filenames.\n"
          ]
        }
      ]
    },
    {
      "cell_type": "markdown",
      "metadata": {
        "id": "w3ZbQfBhkKQ_"
      },
      "source": [
        "## 開始訓練模型"
      ]
    },
    {
      "cell_type": "code",
      "metadata": {
        "id": "L2nwgVS-duaf"
      },
      "source": [
        "model_dir = 'model-logs/resnet50'\n",
        "if not os.path.exists(model_dir):\n",
        "    os.makedirs(model_dir)\n",
        "\n",
        "logfiles = model_dir + '/{}-{}'.format('basic_model',\n",
        "                                       model.__class__.__name__)\n",
        "model_cbk = keras.callbacks.TensorBoard(log_dir=logfiles,\n",
        "                                        histogram_freq=1)\n",
        "\n",
        "modelfiles = model_dir + '/{}-best-model.h5'.format('basic_model')\n",
        "model_mckp = keras.callbacks.ModelCheckpoint(modelfiles,\n",
        "                                             monitor='val_accuracy',\n",
        "                                             save_best_only=True)\n",
        "\n",
        "earlystop = keras.callbacks.EarlyStopping(monitor='val_loss',\n",
        "                                          patience=5,\n",
        "                                          verbose=1)\n",
        "\n",
        "\n",
        "callbacks_list = [model_cbk, model_mckp, earlystop]"
      ],
      "execution_count": null,
      "outputs": []
    },
    {
      "cell_type": "code",
      "metadata": {
        "colab": {
          "base_uri": "https://localhost:8080/"
        },
        "id": "dQ8rNZ9Cd7Ba",
        "outputId": "d1eba689-76e6-4401-85c0-cf2fe9cfc446"
      },
      "source": [
        "history = model.fit_generator(train_generator,\n",
        "                              steps_per_epoch=num_steps,\n",
        "                              epochs=num_epochs,\n",
        "                              validation_data=valid_generator,\n",
        "                              callbacks=callbacks_list)"
      ],
      "execution_count": null,
      "outputs": [
        {
          "output_type": "stream",
          "name": "stderr",
          "text": [
            "/usr/local/lib/python3.7/dist-packages/ipykernel_launcher.py:5: UserWarning: `Model.fit_generator` is deprecated and will be removed in a future version. Please use `Model.fit`, which supports generators.\n",
            "  \"\"\"\n",
            "/usr/local/lib/python3.7/dist-packages/keras/engine/functional.py:1410: CustomMaskWarning: Custom mask layers require a config and must override get_config. When loading, the custom mask layer must be passed to the custom_objects argument.\n",
            "  layer_config = serialize_layer_fn(layer)\n"
          ]
        },
        {
          "output_type": "stream",
          "name": "stdout",
          "text": [
            "Epoch 1/50\n",
            "16/16 [==============================] - 306s 18s/step - loss: 1.9146 - accuracy: 0.2277 - val_loss: 1.7186 - val_accuracy: 0.2778\n",
            "Epoch 2/50\n",
            "16/16 [==============================] - 22s 1s/step - loss: 1.6492 - accuracy: 0.3147 - val_loss: 1.5016 - val_accuracy: 0.3519\n",
            "Epoch 3/50\n",
            "16/16 [==============================] - 21s 1s/step - loss: 1.4166 - accuracy: 0.3975 - val_loss: 1.3527 - val_accuracy: 0.4444\n",
            "Epoch 4/50\n",
            "16/16 [==============================] - 21s 1s/step - loss: 1.2306 - accuracy: 0.4990 - val_loss: 1.2391 - val_accuracy: 0.5000\n",
            "Epoch 5/50\n",
            "16/16 [==============================] - 21s 1s/step - loss: 1.1345 - accuracy: 0.5714 - val_loss: 1.1596 - val_accuracy: 0.5370\n",
            "Epoch 6/50\n",
            "16/16 [==============================] - 21s 1s/step - loss: 1.0150 - accuracy: 0.6398 - val_loss: 1.0910 - val_accuracy: 0.6111\n",
            "Epoch 7/50\n",
            "16/16 [==============================] - 21s 1s/step - loss: 0.9140 - accuracy: 0.6812 - val_loss: 1.0395 - val_accuracy: 0.6481\n",
            "Epoch 8/50\n",
            "16/16 [==============================] - 20s 1s/step - loss: 0.8022 - accuracy: 0.7619 - val_loss: 0.9985 - val_accuracy: 0.6481\n",
            "Epoch 9/50\n",
            "16/16 [==============================] - 21s 1s/step - loss: 0.7303 - accuracy: 0.7950 - val_loss: 0.9480 - val_accuracy: 0.7037\n",
            "Epoch 10/50\n",
            "16/16 [==============================] - 20s 1s/step - loss: 0.6611 - accuracy: 0.8344 - val_loss: 0.9047 - val_accuracy: 0.7037\n",
            "Epoch 11/50\n",
            "16/16 [==============================] - 21s 1s/step - loss: 0.6017 - accuracy: 0.8468 - val_loss: 0.8625 - val_accuracy: 0.7407\n",
            "Epoch 12/50\n",
            "16/16 [==============================] - 20s 1s/step - loss: 0.5363 - accuracy: 0.8799 - val_loss: 0.8359 - val_accuracy: 0.7222\n",
            "Epoch 13/50\n",
            "16/16 [==============================] - 20s 1s/step - loss: 0.4917 - accuracy: 0.9006 - val_loss: 0.7982 - val_accuracy: 0.7222\n",
            "Epoch 14/50\n",
            "16/16 [==============================] - 20s 1s/step - loss: 0.4527 - accuracy: 0.9048 - val_loss: 0.7682 - val_accuracy: 0.7407\n",
            "Epoch 15/50\n",
            "16/16 [==============================] - 20s 1s/step - loss: 0.3839 - accuracy: 0.9482 - val_loss: 0.7447 - val_accuracy: 0.7222\n",
            "Epoch 16/50\n",
            "16/16 [==============================] - 21s 1s/step - loss: 0.3521 - accuracy: 0.9503 - val_loss: 0.7252 - val_accuracy: 0.7593\n",
            "Epoch 17/50\n",
            "16/16 [==============================] - 20s 1s/step - loss: 0.3184 - accuracy: 0.9503 - val_loss: 0.7214 - val_accuracy: 0.7593\n",
            "Epoch 18/50\n",
            "16/16 [==============================] - 20s 1s/step - loss: 0.2933 - accuracy: 0.9607 - val_loss: 0.7175 - val_accuracy: 0.7407\n",
            "Epoch 19/50\n",
            "16/16 [==============================] - 20s 1s/step - loss: 0.2660 - accuracy: 0.9648 - val_loss: 0.6930 - val_accuracy: 0.7407\n",
            "Epoch 20/50\n",
            "16/16 [==============================] - 21s 1s/step - loss: 0.2474 - accuracy: 0.9710 - val_loss: 0.6718 - val_accuracy: 0.7778\n",
            "Epoch 21/50\n",
            "16/16 [==============================] - 21s 1s/step - loss: 0.2291 - accuracy: 0.9669 - val_loss: 0.6419 - val_accuracy: 0.7963\n",
            "Epoch 22/50\n",
            "16/16 [==============================] - 21s 1s/step - loss: 0.2023 - accuracy: 0.9793 - val_loss: 0.6273 - val_accuracy: 0.8148\n",
            "Epoch 23/50\n",
            "16/16 [==============================] - 20s 1s/step - loss: 0.1995 - accuracy: 0.9731 - val_loss: 0.5946 - val_accuracy: 0.8148\n",
            "Epoch 24/50\n",
            "16/16 [==============================] - 20s 1s/step - loss: 0.1802 - accuracy: 0.9896 - val_loss: 0.6130 - val_accuracy: 0.7778\n",
            "Epoch 25/50\n",
            "16/16 [==============================] - 20s 1s/step - loss: 0.1820 - accuracy: 0.9731 - val_loss: 0.6069 - val_accuracy: 0.7963\n",
            "Epoch 26/50\n",
            "16/16 [==============================] - 20s 1s/step - loss: 0.1365 - accuracy: 0.9876 - val_loss: 0.6162 - val_accuracy: 0.7963\n",
            "Epoch 27/50\n",
            "16/16 [==============================] - 20s 1s/step - loss: 0.1502 - accuracy: 0.9876 - val_loss: 0.6028 - val_accuracy: 0.7963\n",
            "Epoch 28/50\n",
            "16/16 [==============================] - 20s 1s/step - loss: 0.1293 - accuracy: 0.9917 - val_loss: 0.5901 - val_accuracy: 0.8148\n",
            "Epoch 29/50\n",
            "16/16 [==============================] - 21s 1s/step - loss: 0.1195 - accuracy: 0.9917 - val_loss: 0.5862 - val_accuracy: 0.8333\n",
            "Epoch 30/50\n",
            "16/16 [==============================] - 20s 1s/step - loss: 0.1248 - accuracy: 0.9938 - val_loss: 0.5826 - val_accuracy: 0.8333\n",
            "Epoch 31/50\n",
            "16/16 [==============================] - 20s 1s/step - loss: 0.1061 - accuracy: 0.9938 - val_loss: 0.5788 - val_accuracy: 0.8333\n",
            "Epoch 32/50\n",
            "16/16 [==============================] - 20s 1s/step - loss: 0.1054 - accuracy: 0.9938 - val_loss: 0.5708 - val_accuracy: 0.8148\n",
            "Epoch 33/50\n",
            "16/16 [==============================] - 20s 1s/step - loss: 0.0866 - accuracy: 0.9959 - val_loss: 0.5735 - val_accuracy: 0.7778\n",
            "Epoch 34/50\n",
            "16/16 [==============================] - 20s 1s/step - loss: 0.0935 - accuracy: 0.9938 - val_loss: 0.5936 - val_accuracy: 0.7778\n",
            "Epoch 35/50\n",
            "16/16 [==============================] - 20s 1s/step - loss: 0.0798 - accuracy: 1.0000 - val_loss: 0.5987 - val_accuracy: 0.7963\n",
            "Epoch 36/50\n",
            "16/16 [==============================] - 20s 1s/step - loss: 0.0777 - accuracy: 1.0000 - val_loss: 0.5795 - val_accuracy: 0.8333\n",
            "Epoch 37/50\n",
            "16/16 [==============================] - 20s 1s/step - loss: 0.0759 - accuracy: 0.9938 - val_loss: 0.5900 - val_accuracy: 0.8148\n",
            "Epoch 00037: early stopping\n"
          ]
        }
      ]
    },
    {
      "cell_type": "markdown",
      "metadata": {
        "id": "nZBlMAU7kEwK"
      },
      "source": [
        "## 訓練結果視覺化"
      ]
    },
    {
      "cell_type": "code",
      "metadata": {
        "id": "t6mBydsWduag",
        "colab": {
          "base_uri": "https://localhost:8080/"
        },
        "outputId": "6bb9e1c1-6589-4ae5-f93a-6d524d742fea"
      },
      "source": [
        "loss, acc = model.evaluate_generator(valid_generator, verbose=2)\n",
        "# model.save('path_to_saved_model', save_format='tf')\n"
      ],
      "execution_count": null,
      "outputs": [
        {
          "output_type": "stream",
          "name": "stderr",
          "text": [
            "/usr/local/lib/python3.7/dist-packages/ipykernel_launcher.py:1: UserWarning: `Model.evaluate_generator` is deprecated and will be removed in a future version. Please use `Model.evaluate`, which supports generators.\n",
            "  \"\"\"Entry point for launching an IPython kernel.\n"
          ]
        },
        {
          "output_type": "stream",
          "name": "stdout",
          "text": [
            "2/2 - 1s - loss: 0.5900 - accuracy: 0.8148 - 844ms/epoch - 422ms/step\n"
          ]
        }
      ]
    },
    {
      "cell_type": "code",
      "metadata": {
        "id": "Ppqh58Ccduag"
      },
      "source": [
        "# model = keras.models.load_model('./model-logs/basic_model-best-model.h5')\n",
        "# loss, acc = model.evaluate(x_test, y_test, verbose=2)"
      ],
      "execution_count": null,
      "outputs": []
    },
    {
      "cell_type": "code",
      "metadata": {
        "id": "k1_GuVQdduag",
        "colab": {
          "base_uri": "https://localhost:8080/"
        },
        "outputId": "0f9841c6-d61d-46ca-8d31-df286ed8a88d"
      },
      "source": [
        "y_pred = model.predict_generator(valid_generator)\n",
        "y_pred = y_pred.argmax(-1)"
      ],
      "execution_count": null,
      "outputs": [
        {
          "output_type": "stream",
          "name": "stderr",
          "text": [
            "/usr/local/lib/python3.7/dist-packages/ipykernel_launcher.py:1: UserWarning: `Model.predict_generator` is deprecated and will be removed in a future version. Please use `Model.predict`, which supports generators.\n",
            "  \"\"\"Entry point for launching an IPython kernel.\n"
          ]
        }
      ]
    },
    {
      "cell_type": "code",
      "metadata": {
        "id": "ExlY3dE4duah",
        "colab": {
          "base_uri": "https://localhost:8080/"
        },
        "outputId": "ecd0d4c6-18ab-465e-edae-27026c2249a9"
      },
      "source": [
        "y_pred"
      ],
      "execution_count": null,
      "outputs": [
        {
          "output_type": "execute_result",
          "data": {
            "text/plain": [
              "array([2, 3, 2, 3, 3, 0, 3, 0, 0, 1, 4, 3, 4, 1, 1, 4, 4, 0, 3, 3, 1, 0,\n",
              "       4, 1, 0, 1, 2, 0, 2, 3, 1, 0, 4, 2, 4, 2, 1, 3, 4, 3, 0, 2, 3, 0,\n",
              "       4, 1, 1, 3, 0, 1, 1, 4, 4, 0])"
            ]
          },
          "metadata": {},
          "execution_count": 32
        }
      ]
    },
    {
      "cell_type": "code",
      "metadata": {
        "id": "34wHJ1_5duah"
      },
      "source": [
        "y_test = valid_generator.classes\n",
        "class_name = valid_generator.class_indices\n",
        "class_names = np.array([each for each in class_name.keys()])"
      ],
      "execution_count": null,
      "outputs": []
    },
    {
      "cell_type": "code",
      "metadata": {
        "id": "3ARCpJBtduah"
      },
      "source": [
        ""
      ],
      "execution_count": null,
      "outputs": []
    },
    {
      "cell_type": "code",
      "metadata": {
        "id": "VhgagI52duah",
        "colab": {
          "base_uri": "https://localhost:8080/"
        },
        "outputId": "d4261fa4-e67f-4bf3-8082-fabe6ec54041"
      },
      "source": [
        "y_pred"
      ],
      "execution_count": null,
      "outputs": [
        {
          "output_type": "execute_result",
          "data": {
            "text/plain": [
              "array([2, 3, 2, 3, 3, 0, 3, 0, 0, 1, 4, 3, 4, 1, 1, 4, 4, 0, 3, 3, 1, 0,\n",
              "       4, 1, 0, 1, 2, 0, 2, 3, 1, 0, 4, 2, 4, 2, 1, 3, 4, 3, 0, 2, 3, 0,\n",
              "       4, 1, 1, 3, 0, 1, 1, 4, 4, 0])"
            ]
          },
          "metadata": {},
          "execution_count": 34
        }
      ]
    },
    {
      "cell_type": "code",
      "metadata": {
        "id": "Um3KlgqRduah"
      },
      "source": [
        "from sklearn.metrics import accuracy_score, confusion_matrix\n",
        "\n",
        "# print(accuracy_score(y_test, y_pred))\n",
        "# print(confusion_matrix(y_test, y_pred))"
      ],
      "execution_count": null,
      "outputs": []
    },
    {
      "cell_type": "code",
      "metadata": {
        "id": "kXOC8vfOduai"
      },
      "source": [
        ""
      ],
      "execution_count": null,
      "outputs": []
    },
    {
      "cell_type": "code",
      "metadata": {
        "id": "yF1SghFgduai",
        "colab": {
          "base_uri": "https://localhost:8080/",
          "height": 639
        },
        "outputId": "b85cdcb2-cad4-4e72-95cf-77262e524f8c"
      },
      "source": [
        "import seaborn as sns\n",
        "\n",
        "matrix = confusion_matrix(y_test, y_pred)\n",
        "\n",
        "plt.figure(figsize=(10, 10))\n",
        "sns.heatmap(matrix, annot=True, cbar=False, cmap=\"Blues\",\n",
        "            xticklabels=class_names,\n",
        "            yticklabels=class_names)\n",
        "plt.ylabel('True Label')\n",
        "plt.xlabel('Predicted Label')\n",
        "plt.title('Confusion Matrix')"
      ],
      "execution_count": null,
      "outputs": [
        {
          "output_type": "execute_result",
          "data": {
            "text/plain": [
              "Text(0.5, 1.0, 'Confusion Matrix')"
            ]
          },
          "metadata": {},
          "execution_count": 36
        },
        {
          "output_type": "display_data",
          "data": {
            "image/png": "[encoded data removed]",
            "text/plain": [
              "<Figure size 720x720 with 1 Axes>"
            ]
          },
          "metadata": {
            "needs_background": "light"
          }
        }
      ]
    },
    {
      "cell_type": "code",
      "metadata": {
        "id": "XtUqvUzVSU82",
        "colab": {
          "base_uri": "https://localhost:8080/",
          "height": 336
        },
        "outputId": "f59f3e55-dee8-4b8d-8cdd-ccdf7ff71a71"
      },
      "source": [
        "#saveToCSV()\n",
        "y_pred = model.predict(test_generator)train_history = ['loss', 'val_loss', 'accuracy', 'val_accuracy']\n",
        "name_history = ['training_loss', 'val_loss', 'training_acc', 'val_acc']\n",
        "\n",
        "plt.figure(figsize=(12, 5))\n",
        "for eachx, eachy, i in zip(train_history, name_history, range(4)):\n",
        "    if i % 2 == 0:\n",
        "        plt.subplot(1, 2, i//2+1)\n",
        "    l_x = len(history.history[eachx])\n",
        "    plt.plot(np.arange(l_x), history.history[eachx], label=eachy)\n",
        "    plt.legend(loc='best')\n",
        "    plt.title('model'+eachy)\n",
        "plt.show()"
      ],
      "execution_count": null,
      "outputs": [
        {
          "output_type": "display_data",
          "data": {
            "image/png": "[encoded data removed]",
            "text/plain": [
              "<Figure size 864x360 with 2 Axes>"
            ]
          },
          "metadata": {
            "needs_background": "light"
          }
        }
      ]
    },
    {
      "cell_type": "code",
      "metadata": {
        "id": "wiJ8uyPcduai"
      },
      "source": [
        "#saveToCSV()\n",
        "y_pred = model.predict(test_generator)"
      ],
      "execution_count": null,
      "outputs": []
    },
    {
      "cell_type": "code",
      "metadata": {
        "colab": {
          "base_uri": "https://localhost:8080/"
        },
        "id": "buZk5BoZnO5y",
        "outputId": "6c2cf428-f7ca-45bb-d8f8-58e3b9bd010d"
      },
      "source": [
        "y_pred"
      ],
      "execution_count": null,
      "outputs": [
        {
          "output_type": "execute_result",
          "data": {
            "text/plain": [
              "array([[1.0395062e-01, 3.6186254e-01, 1.2904108e-03, 2.5600007e-01,\n",
              "        2.7689633e-01],\n",
              "       [3.4807830e-03, 8.8856554e-01, 2.8453110e-04, 1.0715962e-01,\n",
              "        5.0946837e-04],\n",
              "       [9.4442591e-03, 9.6755391e-01, 9.3857180e-03, 9.3726320e-03,\n",
              "        4.2435504e-03],\n",
              "       ...,\n",
              "       [5.7401350e-03, 1.5042782e-01, 1.4894508e-01, 5.8596855e-01,\n",
              "        1.0891840e-01],\n",
              "       [6.0193759e-04, 1.6063920e-03, 9.9611640e-01, 1.3008710e-03,\n",
              "        3.7443027e-04],\n",
              "       [5.2368406e-02, 3.8548365e-02, 2.7459171e-03, 2.5208385e-03,\n",
              "        9.0381646e-01]], dtype=float32)"
            ]
          },
          "metadata": {},
          "execution_count": 39
        }
      ]
    },
    {
      "cell_type": "code",
      "metadata": {
        "id": "2jVbbtTPduak"
      },
      "source": [
        "y_pred = y_pred.argmax(-1)"
      ],
      "execution_count": null,
      "outputs": []
    },
    {
      "cell_type": "code",
      "metadata": {
        "colab": {
          "base_uri": "https://localhost:8080/"
        },
        "id": "zOR0APN6nU_n",
        "outputId": "81c3d3d9-7500-4e8b-8b03-c26bfb6bbc20"
      },
      "source": [
        "y_pred"
      ],
      "execution_count": null,
      "outputs": [
        {
          "output_type": "execute_result",
          "data": {
            "text/plain": [
              "array([1, 1, 1, 1, 1, 1, 4, 4, 1, 2, 1, 1, 4, 4, 2, 1, 1, 1, 4, 3, 4, 4,\n",
              "       1, 0, 4, 3, 3, 3, 1, 0, 2, 2, 4, 1, 4, 3, 4, 0, 4, 3, 2, 4, 3, 1,\n",
              "       4, 4, 3, 4, 4, 1, 0, 3, 4, 0, 4, 3, 4, 1, 0, 3, 4, 0, 2, 3, 1, 1,\n",
              "       3, 3, 0, 2, 4, 0, 1, 0, 4, 2, 2, 3, 4, 1, 2, 4, 2, 3, 4, 3, 1, 1,\n",
              "       3, 0, 4, 1, 2, 4, 4, 3, 3, 4, 1, 1, 3, 4, 1, 4, 1, 2, 4, 3, 3, 2,\n",
              "       1, 2, 0, 1, 4, 2, 4, 0, 0, 3, 4, 4, 2, 0, 4, 2, 3, 1, 0, 4, 4, 0,\n",
              "       4, 4, 1, 3, 2, 1, 0, 3, 4, 0, 3, 0, 2, 3, 0, 1, 1, 4, 2, 0, 2, 0,\n",
              "       1, 1, 2, 4, 4, 3, 3, 0, 3, 4, 0, 1, 3, 3, 1, 1, 3, 1, 1, 0, 1, 1,\n",
              "       2, 1, 3, 4, 4, 2, 4, 3, 1, 0, 4, 1, 3, 1, 1, 4, 1, 1, 2, 1, 3, 0,\n",
              "       4, 1, 2, 3, 1, 3, 3, 1, 4, 1, 1, 1, 1, 3, 0, 1, 4, 4, 4, 2, 4, 4,\n",
              "       0, 1, 4, 4, 3, 3, 2, 2, 3, 4, 0, 2, 4, 1, 4, 3, 4, 1, 4, 4, 2, 4,\n",
              "       0, 4, 1, 4, 0, 2, 4, 3, 0, 1, 0, 1, 0, 0, 2, 1, 1, 2, 4, 0, 4, 4,\n",
              "       4, 4, 0, 1, 2, 3, 4, 4, 1, 3, 0, 4, 2, 0, 3, 4, 1, 4, 4, 0, 1, 0,\n",
              "       1, 3, 3, 2, 1, 0, 3, 1, 3, 3, 4, 0, 4, 0, 0, 1, 3, 4, 3, 0, 3, 0,\n",
              "       0, 4, 1, 4, 0, 1, 2, 3, 1, 1, 3, 0, 1, 3, 3, 4, 3, 0, 4, 0, 3, 2,\n",
              "       1, 1, 0, 4, 4, 2, 0, 0, 4, 4, 1, 1, 3, 1, 0, 1, 1, 4, 3, 3, 4, 4,\n",
              "       0, 2, 3, 4, 3, 4, 3, 4, 0, 3, 4, 0, 1, 2, 0, 4, 0, 0, 0, 0, 0, 4,\n",
              "       0, 4, 0, 1, 4, 3, 4, 1, 4, 0, 3, 2, 0, 0, 3, 2, 0, 0, 3, 4, 4, 3,\n",
              "       3, 4, 0, 4, 4, 1, 1, 3, 3, 1, 3, 2, 3, 0, 0, 4, 1, 1, 2, 1, 1, 3,\n",
              "       0, 3, 2, 1, 2, 4, 4, 0, 3, 3, 2, 4, 4, 0, 2, 2, 3, 3, 2, 4])"
            ]
          },
          "metadata": {},
          "execution_count": 41
        }
      ]
    },
    {
      "cell_type": "code",
      "metadata": {
        "id": "VDmDcdgEduak"
      },
      "source": [
        "# path = pred_list['img_path'][0]\n",
        "# print(path)\n",
        "# print(path.split('/')[-1].split('.')[0])"
      ],
      "execution_count": null,
      "outputs": []
    },
    {
      "cell_type": "code",
      "metadata": {
        "id": "JKzRhulWduak"
      },
      "source": [
        "count =pred_list.size\n",
        "i=0\n",
        "id_array =[]\n",
        "while(i < count):\n",
        "    path = pred_list['img_path'][i]\n",
        "    id_array.append(path.split('/')[-1].split('.')[0])\n",
        "    i+=1\n",
        "    \n"
      ],
      "execution_count": null,
      "outputs": []
    },
    {
      "cell_type": "code",
      "metadata": {
        "id": "tLluMy_ubIj1"
      },
      "source": [
        ""
      ],
      "execution_count": null,
      "outputs": []
    },
    {
      "cell_type": "code",
      "metadata": {
        "id": "TqpzNTY6duak",
        "colab": {
          "base_uri": "https://localhost:8080/"
        },
        "outputId": "904c3cdb-7149-407c-e351-229ab4ee27db"
      },
      "source": [
        "\n",
        "\n",
        "\n",
        "sub = pd.read_csv('/content/drive/MyDrive/AIA/Kaggle/WhoIsShe/sample_submission.csv')\n",
        "    \n",
        "\n",
        "test_submission = pd.DataFrame({'id':id_array, 'class': y_pred})\n",
        "print(len(y_pred))\n",
        "test_submission.to_csv('/content/drive/MyDrive/AIA/Kaggle/WhoIsShe/submission.csv',index = False)\n"
      ],
      "execution_count": null,
      "outputs": [
        {
          "output_type": "stream",
          "name": "stdout",
          "text": [
            "438\n"
          ]
        }
      ]
    },
    {
      "cell_type": "code",
      "metadata": {
        "id": "wk6elT6ogjA3",
        "colab": {
          "base_uri": "https://localhost:8080/"
        },
        "outputId": "641b113f-03d0-4e2e-db73-b3c05d8b559c"
      },
      "source": [
        "len(y_pred)"
      ],
      "execution_count": null,
      "outputs": [
        {
          "output_type": "execute_result",
          "data": {
            "text/plain": [
              "438"
            ]
          },
          "metadata": {},
          "execution_count": 45
        }
      ]
    },
    {
      "cell_type": "code",
      "metadata": {
        "id": "6rXUBA_Rdual"
      },
      "source": [
        ""
      ],
      "execution_count": null,
      "outputs": []
    },
    {
      "cell_type": "code",
      "metadata": {
        "id": "eHJ4jIEidual"
      },
      "source": [
        ""
      ],
      "execution_count": null,
      "outputs": []
    },
    {
      "cell_type": "code",
      "metadata": {
        "id": "T_GiM31Edual"
      },
      "source": [
        ""
      ],
      "execution_count": null,
      "outputs": []
    },
    {
      "cell_type": "code",
      "metadata": {
        "id": "XXQDKvf3dual"
      },
      "source": [
        ""
      ],
      "execution_count": null,
      "outputs": []
    },
    {
      "cell_type": "code",
      "metadata": {
        "id": "ExVFdE-Hdual"
      },
      "source": [
        ""
      ],
      "execution_count": null,
      "outputs": []
    },
    {
      "cell_type": "code",
      "metadata": {
        "id": "wR1ffd5bdual"
      },
      "source": [
        ""
      ],
      "execution_count": null,
      "outputs": []
    },
    {
      "cell_type": "code",
      "metadata": {
        "id": "RWN7ynaldual"
      },
      "source": [
        ""
      ],
      "execution_count": null,
      "outputs": []
    },
    {
      "cell_type": "code",
      "metadata": {
        "id": "9X77kMeLduam"
      },
      "source": [
        "#saveToCSV()\n",
        "y_pred = model.predict(test_generator)\n",
        "y_pred = y_pred.argmax(-1)\n",
        "\n",
        "count =pred_list.size\n",
        "i=0\n",
        "id_array =[]\n",
        "while(i < count):\n",
        "    path = pred_list['img_path'][i]\n",
        "    id_array.append(path.split('/')[-1].split('.')[0])\n",
        "    i+=1\n",
        "\n",
        "sub = pd.read_csv('/content/drive/MyDrive/AIA/Kaggle/WhoIsShe/sample_submission.csv')\n",
        "    \n",
        "\n",
        "test_submission = pd.DataFrame({'id':id_array, 'class': y_pred})\n",
        "print(len(y_pred))\n",
        "test_submission.to_csv('/content/drive/MyDrive/AIA/Kaggle/WhoIsShe/submission.csv',index = False)"
      ],
      "execution_count": null,
      "outputs": []
    }
  ]
}